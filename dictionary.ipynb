{
 "cells": [
  {
   "cell_type": "code",
   "execution_count": 1,
   "id": "8eac4468-9491-4412-98c0-a25388094417",
   "metadata": {},
   "outputs": [],
   "source": [
    "d ={}"
   ]
  },
  {
   "cell_type": "code",
   "execution_count": 8,
   "id": "578e4338-379d-4c1b-90df-b3f77fda176c",
   "metadata": {},
   "outputs": [
    {
     "data": {
      "text/plain": [
       "dict"
      ]
     },
     "execution_count": 8,
     "metadata": {},
     "output_type": "execute_result"
    }
   ],
   "source": [
    "type(d)"
   ]
  },
  {
   "cell_type": "code",
   "execution_count": 9,
   "id": "966c1034-d977-46d0-83d3-8e8640cacf67",
   "metadata": {},
   "outputs": [],
   "source": [
    "d1 = {'key' :\"gyana\"}"
   ]
  },
  {
   "cell_type": "code",
   "execution_count": 12,
   "id": "4533770d-2d18-4b9a-8228-82a7514b9596",
   "metadata": {},
   "outputs": [
    {
     "data": {
      "text/plain": [
       "{'key': 'gyana'}"
      ]
     },
     "execution_count": 12,
     "metadata": {},
     "output_type": "execute_result"
    }
   ],
   "source": [
    "d1"
   ]
  },
  {
   "cell_type": "code",
   "execution_count": 13,
   "id": "42a6278b-228a-437b-9a11-474c019a2ec4",
   "metadata": {},
   "outputs": [],
   "source": [
    "d2 = {'name': \"gyanaranjan\",'email': \"sahoogyana07@gmail.com\",\"number\": 4858494}"
   ]
  },
  {
   "cell_type": "code",
   "execution_count": 14,
   "id": "54500d34-1824-4d7e-b5f2-746becc8b3a0",
   "metadata": {},
   "outputs": [
    {
     "data": {
      "text/plain": [
       "{'name': 'gyanaranjan', 'email': 'sahoogyana07@gmail.com', 'number': 4858494}"
      ]
     },
     "execution_count": 14,
     "metadata": {},
     "output_type": "execute_result"
    }
   ],
   "source": [
    "d2"
   ]
  },
  {
   "cell_type": "code",
   "execution_count": 19,
   "id": "a19715d7-d240-4b23-be6f-78b7226a3a32",
   "metadata": {},
   "outputs": [
    {
     "ename": "SyntaxError",
     "evalue": "invalid syntax (897585068.py, line 1)",
     "output_type": "error",
     "traceback": [
      "\u001b[0;36m  Cell \u001b[0;32mIn[19], line 1\u001b[0;36m\u001b[0m\n\u001b[0;31m    d3 = {455 : \"gyana\",@vgh: \"pinu\"}\u001b[0m\n\u001b[0m                        ^\u001b[0m\n\u001b[0;31mSyntaxError\u001b[0m\u001b[0;31m:\u001b[0m invalid syntax\n"
     ]
    }
   ],
   "source": [
    "d3 = {455 : \"gyana\",@vgh: \"pinu\"}"
   ]
  },
  {
   "cell_type": "code",
   "execution_count": 21,
   "id": "465a03a0-637c-4c57-ad61-a2c4d1e28655",
   "metadata": {},
   "outputs": [
    {
     "ename": "NameError",
     "evalue": "name '_vgh' is not defined",
     "output_type": "error",
     "traceback": [
      "\u001b[0;31m---------------------------------------------------------------------------\u001b[0m",
      "\u001b[0;31mNameError\u001b[0m                                 Traceback (most recent call last)",
      "Cell \u001b[0;32mIn[21], line 1\u001b[0m\n\u001b[0;32m----> 1\u001b[0m d3 \u001b[38;5;241m=\u001b[39m {\u001b[38;5;241m455\u001b[39m : \u001b[38;5;124m\"\u001b[39m\u001b[38;5;124mgyana\u001b[39m\u001b[38;5;124m\"\u001b[39m,\u001b[43m_vgh\u001b[49m: \u001b[38;5;124m\"\u001b[39m\u001b[38;5;124mpinu\u001b[39m\u001b[38;5;124m\"\u001b[39m}\n",
      "\u001b[0;31mNameError\u001b[0m: name '_vgh' is not defined"
     ]
    }
   ],
   "source": [
    "d3 = {455 : \"gyana\",_vgh: \"pinu\"}"
   ]
  },
  {
   "cell_type": "code",
   "execution_count": 23,
   "id": "09489a46-197d-4b02-9e79-9cf04a0313a8",
   "metadata": {},
   "outputs": [],
   "source": [
    "d3 = {455 : \"gyana\",\"@vgh\": \"pinu\",True : 748848}"
   ]
  },
  {
   "cell_type": "code",
   "execution_count": 24,
   "id": "d3b4d6f6-3626-4e3d-9f35-6628c8852e96",
   "metadata": {},
   "outputs": [
    {
     "data": {
      "text/plain": [
       "{455: 'gyana', '@vgh': 'pinu', True: 748848}"
      ]
     },
     "execution_count": 24,
     "metadata": {},
     "output_type": "execute_result"
    }
   ],
   "source": [
    "d3"
   ]
  },
  {
   "cell_type": "code",
   "execution_count": 27,
   "id": "c19527cd-af21-491d-b2de-1669cf9f7c2c",
   "metadata": {},
   "outputs": [
    {
     "data": {
      "text/plain": [
       "'gyana'"
      ]
     },
     "execution_count": 27,
     "metadata": {},
     "output_type": "execute_result"
    }
   ],
   "source": [
    "d3[455]"
   ]
  },
  {
   "cell_type": "code",
   "execution_count": 28,
   "id": "3b742922-2074-450f-900f-d65c73884294",
   "metadata": {},
   "outputs": [
    {
     "data": {
      "text/plain": [
       "748848"
      ]
     },
     "execution_count": 28,
     "metadata": {},
     "output_type": "execute_result"
    }
   ],
   "source": [
    "d3[True]"
   ]
  },
  {
   "cell_type": "code",
   "execution_count": 29,
   "id": "14707f3a-1097-486d-b8f3-44c56d9c929e",
   "metadata": {},
   "outputs": [
    {
     "data": {
      "text/plain": [
       "748848"
      ]
     },
     "execution_count": 29,
     "metadata": {},
     "output_type": "execute_result"
    }
   ],
   "source": [
    "d3[1]"
   ]
  },
  {
   "cell_type": "code",
   "execution_count": 30,
   "id": "4df2c52f-786e-42eb-b5c9-42e41acbd8c3",
   "metadata": {},
   "outputs": [],
   "source": [
    "d4 = {'name' : \"gyana\",'mail_id' : \"sahoogyana07@gmail.com\",\"name\":'gyanaranjan' }"
   ]
  },
  {
   "cell_type": "code",
   "execution_count": 32,
   "id": "064475e4-25c0-4f23-8020-22f8e56fa564",
   "metadata": {},
   "outputs": [
    {
     "data": {
      "text/plain": [
       "'gyanaranjan'"
      ]
     },
     "execution_count": 32,
     "metadata": {},
     "output_type": "execute_result"
    }
   ],
   "source": [
    "d4['name']"
   ]
  },
  {
   "cell_type": "code",
   "execution_count": 33,
   "id": "f0e4d9d9-6fbc-4de4-a6d7-a2030e3d9c53",
   "metadata": {},
   "outputs": [],
   "source": [
    "d5 = {\"company\":\"pwskills\",\"course\" : [\"web dev\",\"data science\",\"java with data system design\"]}"
   ]
  },
  {
   "cell_type": "code",
   "execution_count": 34,
   "id": "a3eb2b57-79f9-48b1-936d-93293eeeb3be",
   "metadata": {},
   "outputs": [
    {
     "data": {
      "text/plain": [
       "{'company': 'pwskills',\n",
       " 'course': ['web dev', 'data science', 'java with data system design']}"
      ]
     },
     "execution_count": 34,
     "metadata": {},
     "output_type": "execute_result"
    }
   ],
   "source": [
    "d5"
   ]
  },
  {
   "cell_type": "code",
   "execution_count": 35,
   "id": "53cf0dd9-c812-4316-b94b-a9f1c2cfb07e",
   "metadata": {},
   "outputs": [
    {
     "data": {
      "text/plain": [
       "['web dev', 'data science', 'java with data system design']"
      ]
     },
     "execution_count": 35,
     "metadata": {},
     "output_type": "execute_result"
    }
   ],
   "source": [
    "d5['course']"
   ]
  },
  {
   "cell_type": "code",
   "execution_count": 36,
   "id": "ab012dcb-5f9f-4e94-a2cb-eb466419adb2",
   "metadata": {},
   "outputs": [
    {
     "data": {
      "text/plain": [
       "'java with data system design'"
      ]
     },
     "execution_count": 36,
     "metadata": {},
     "output_type": "execute_result"
    }
   ],
   "source": [
    "d5['course'][2]"
   ]
  },
  {
   "cell_type": "code",
   "execution_count": 37,
   "id": "e40d7b55-d088-49cd-b45d-2a5d0507bac5",
   "metadata": {},
   "outputs": [],
   "source": [
    "d6 = {\"number\" : [34,6,8,79] , \"assignment\" : (1,2,3,4,5,6,7) , \"launch_data\":{28,12,24} , \"class_time\":{\"web_dev\":8 , \"data science masters\":8 , \"java with data system design\":7}}"
   ]
  },
  {
   "cell_type": "code",
   "execution_count": 38,
   "id": "28fed362-e75e-482d-b3a0-df1e395f1c4b",
   "metadata": {},
   "outputs": [
    {
     "data": {
      "text/plain": [
       "{'number': [34, 6, 8, 79],\n",
       " 'assignment': (1, 2, 3, 4, 5, 6, 7),\n",
       " 'launch_data': {12, 24, 28},\n",
       " 'class_time': {'web_dev': 8,\n",
       "  'data science masters': 8,\n",
       "  'java with data system design': 7}}"
      ]
     },
     "execution_count": 38,
     "metadata": {},
     "output_type": "execute_result"
    }
   ],
   "source": [
    "d6"
   ]
  },
  {
   "cell_type": "code",
   "execution_count": 43,
   "id": "33cbfd9b-4d90-4239-a61a-ec810e1bcd6a",
   "metadata": {},
   "outputs": [
    {
     "data": {
      "text/plain": [
       "7"
      ]
     },
     "execution_count": 43,
     "metadata": {},
     "output_type": "execute_result"
    }
   ],
   "source": [
    "d6['class_time']['java with data system design']"
   ]
  },
  {
   "cell_type": "code",
   "execution_count": 44,
   "id": "377b1a23-ea59-40bb-b7f8-1b0dfb36e203",
   "metadata": {},
   "outputs": [],
   "source": [
    "d6['mentor'] = [\"sudhanshu\",'krish',\"anurag\",\"hayder\"]"
   ]
  },
  {
   "cell_type": "code",
   "execution_count": 45,
   "id": "5f7a9739-cebc-439a-bfd1-57c3099914ed",
   "metadata": {},
   "outputs": [
    {
     "data": {
      "text/plain": [
       "{'number': [34, 6, 8, 79],\n",
       " 'assignment': (1, 2, 3, 4, 5, 6, 7),\n",
       " 'launch_data': {12, 24, 28},\n",
       " 'class_time': {'web_dev': 8,\n",
       "  'data science masters': 8,\n",
       "  'java with data system design': 7},\n",
       " 'mentor': ['sudhanshu', 'krish', 'anurag', 'hayder']}"
      ]
     },
     "execution_count": 45,
     "metadata": {},
     "output_type": "execute_result"
    }
   ],
   "source": [
    "d6"
   ]
  },
  {
   "cell_type": "code",
   "execution_count": 48,
   "id": "593b8c34-d88c-4663-a9ea-09e33038454a",
   "metadata": {},
   "outputs": [],
   "source": [
    "del d6[\"number\"]"
   ]
  },
  {
   "cell_type": "code",
   "execution_count": 49,
   "id": "3745f523-82ea-4086-9877-a38a90229e73",
   "metadata": {},
   "outputs": [
    {
     "data": {
      "text/plain": [
       "{'assignment': (1, 2, 3, 4, 5, 6, 7),\n",
       " 'launch_data': {12, 24, 28},\n",
       " 'class_time': {'web_dev': 8,\n",
       "  'data science masters': 8,\n",
       "  'java with data system design': 7},\n",
       " 'mentor': ['sudhanshu', 'krish', 'anurag', 'hayder']}"
      ]
     },
     "execution_count": 49,
     "metadata": {},
     "output_type": "execute_result"
    }
   ],
   "source": [
    "d6"
   ]
  },
  {
   "cell_type": "code",
   "execution_count": 53,
   "id": "cdea1739-1fad-4bb9-9cfd-2ff0fe15232f",
   "metadata": {},
   "outputs": [
    {
     "data": {
      "text/plain": [
       "['assignment', 'launch_data', 'class_time', 'mentor']"
      ]
     },
     "execution_count": 53,
     "metadata": {},
     "output_type": "execute_result"
    }
   ],
   "source": [
    "list (d6.keys())"
   ]
  },
  {
   "cell_type": "code",
   "execution_count": 54,
   "id": "b7f4aa8c-02bc-4b51-bb6a-44132dd7d075",
   "metadata": {},
   "outputs": [
    {
     "data": {
      "text/plain": [
       "[('assignment', (1, 2, 3, 4, 5, 6, 7)),\n",
       " ('launch_data', {12, 24, 28}),\n",
       " ('class_time',\n",
       "  {'web_dev': 8,\n",
       "   'data science masters': 8,\n",
       "   'java with data system design': 7}),\n",
       " ('mentor', ['sudhanshu', 'krish', 'anurag', 'hayder'])]"
      ]
     },
     "execution_count": 54,
     "metadata": {},
     "output_type": "execute_result"
    }
   ],
   "source": [
    "list (d6.items())"
   ]
  },
  {
   "cell_type": "code",
   "execution_count": 56,
   "id": "744b3152-e2e1-4edd-aab5-3a6e8448af78",
   "metadata": {},
   "outputs": [
    {
     "data": {
      "text/plain": [
       "[(1, 2, 3, 4, 5, 6, 7),\n",
       " {12, 24, 28},\n",
       " {'web_dev': 8, 'data science masters': 8, 'java with data system design': 7},\n",
       " ['sudhanshu', 'krish', 'anurag', 'hayder']]"
      ]
     },
     "execution_count": 56,
     "metadata": {},
     "output_type": "execute_result"
    }
   ],
   "source": [
    "list (d6.values())"
   ]
  },
  {
   "cell_type": "code",
   "execution_count": 57,
   "id": "7bcdf4e1-aaee-44cb-88d8-f6b06594df04",
   "metadata": {},
   "outputs": [
    {
     "data": {
      "text/plain": [
       "{'assignment': (1, 2, 3, 4, 5, 6, 7),\n",
       " 'launch_data': {12, 24, 28},\n",
       " 'class_time': {'web_dev': 8,\n",
       "  'data science masters': 8,\n",
       "  'java with data system design': 7},\n",
       " 'mentor': ['sudhanshu', 'krish', 'anurag', 'hayder']}"
      ]
     },
     "execution_count": 57,
     "metadata": {},
     "output_type": "execute_result"
    }
   ],
   "source": [
    "d6"
   ]
  },
  {
   "cell_type": "code",
   "execution_count": 58,
   "id": "b57229fb-06dc-438b-a911-561fe1a69241",
   "metadata": {},
   "outputs": [
    {
     "data": {
      "text/plain": [
       "{12, 24, 28}"
      ]
     },
     "execution_count": 58,
     "metadata": {},
     "output_type": "execute_result"
    }
   ],
   "source": [
    "d6.pop('launch_data')"
   ]
  },
  {
   "cell_type": "code",
   "execution_count": 59,
   "id": "3263cd2b-d062-494f-97e9-ea1f8e753596",
   "metadata": {},
   "outputs": [
    {
     "data": {
      "text/plain": [
       "{'assignment': (1, 2, 3, 4, 5, 6, 7),\n",
       " 'class_time': {'web_dev': 8,\n",
       "  'data science masters': 8,\n",
       "  'java with data system design': 7},\n",
       " 'mentor': ['sudhanshu', 'krish', 'anurag', 'hayder']}"
      ]
     },
     "execution_count": 59,
     "metadata": {},
     "output_type": "execute_result"
    }
   ],
   "source": [
    "d6"
   ]
  },
  {
   "cell_type": "code",
   "execution_count": 4,
   "id": "a7197003-6296-4f38-ac7d-969071149ed5",
   "metadata": {},
   "outputs": [],
   "source": [
    "d6 = {\"number\" : [34,6,8,79] , \"assignment\" : (1,2,3,4,5,6,7) , \"launch_data\":{28,12,24} , \"class_time\":{\"web_dev\":8 , \"data science masters\":8 , \"java with data system design\":7}}# day 2"
   ]
  },
  {
   "cell_type": "code",
   "execution_count": 5,
   "id": "f94f91da-03fb-4a79-a352-d90e72b1c09a",
   "metadata": {},
   "outputs": [
    {
     "data": {
      "text/plain": [
       "{'number': [34, 6, 8, 79],\n",
       " 'assignment': (1, 2, 3, 4, 5, 6, 7),\n",
       " 'launch_data': {12, 24, 28},\n",
       " 'class_time': {'web_dev': 8,\n",
       "  'data science masters': 8,\n",
       "  'java with data system design': 7}}"
      ]
     },
     "execution_count": 5,
     "metadata": {},
     "output_type": "execute_result"
    }
   ],
   "source": [
    "d6"
   ]
  },
  {
   "cell_type": "code",
   "execution_count": 6,
   "id": "e4f406b3-2132-4b16-a91f-0ffb13934755",
   "metadata": {},
   "outputs": [
    {
     "ename": "TypeError",
     "evalue": "pop expected at least 1 argument, got 0",
     "output_type": "error",
     "traceback": [
      "\u001b[0;31m---------------------------------------------------------------------------\u001b[0m",
      "\u001b[0;31mTypeError\u001b[0m                                 Traceback (most recent call last)",
      "Cell \u001b[0;32mIn[6], line 1\u001b[0m\n\u001b[0;32m----> 1\u001b[0m \u001b[43md6\u001b[49m\u001b[38;5;241;43m.\u001b[39;49m\u001b[43mpop\u001b[49m\u001b[43m(\u001b[49m\u001b[43m)\u001b[49m\n",
      "\u001b[0;31mTypeError\u001b[0m: pop expected at least 1 argument, got 0"
     ]
    }
   ],
   "source": [
    "d6.pop()"
   ]
  },
  {
   "cell_type": "code",
   "execution_count": 8,
   "id": "026b0a49-c166-4a05-a56d-43929c5e3946",
   "metadata": {},
   "outputs": [
    {
     "data": {
      "text/plain": [
       "{12, 24, 28}"
      ]
     },
     "execution_count": 8,
     "metadata": {},
     "output_type": "execute_result"
    }
   ],
   "source": [
    "d6.pop('launch_data')"
   ]
  },
  {
   "cell_type": "code",
   "execution_count": 9,
   "id": "26bd5e7a-ed48-4d48-b875-af14b229e2a6",
   "metadata": {},
   "outputs": [
    {
     "data": {
      "text/plain": [
       "{'number': [34, 6, 8, 79],\n",
       " 'assignment': (1, 2, 3, 4, 5, 6, 7),\n",
       " 'class_time': {'web_dev': 8,\n",
       "  'data science masters': 8,\n",
       "  'java with data system design': 7}}"
      ]
     },
     "execution_count": 9,
     "metadata": {},
     "output_type": "execute_result"
    }
   ],
   "source": [
    "d6"
   ]
  },
  {
   "cell_type": "code",
   "execution_count": 29,
   "id": "ccf5c15c-5df5-471d-8b39-ebcd9fc8f582",
   "metadata": {},
   "outputs": [
    {
     "name": "stdin",
     "output_type": "stream",
     "text": [
      "enter your marks 50\n"
     ]
    },
    {
     "name": "stdout",
     "output_type": "stream",
     "text": [
      "you will be a part of a2 batch\n"
     ]
    }
   ],
   "source": [
    "marks = int(input(\"enter your marks\"))\n",
    "if marks >= 80 :\n",
    "    print(\"you will be a part of A0 batch\")\n",
    "elif marks >= 60 and marks< 80:\n",
    "    print(\"you will be a part of A1 batch\")\n",
    "elif marks >= 40 and marks < 60:\n",
    "    print(\"you will be a part of a2 batch\")\n",
    "else:\n",
    "    print(\"you will be a part of A3 batch \")\n"
   ]
  },
  {
   "cell_type": "code",
   "execution_count": 32,
   "id": "2a8f94d5-1397-4eaa-8ecd-ec4a22703d47",
   "metadata": {},
   "outputs": [
    {
     "name": "stdin",
     "output_type": "stream",
     "text": [
      "enter price 500\n"
     ]
    },
    {
     "name": "stdout",
     "output_type": "stream",
     "text": [
      "i will purchase\n"
     ]
    }
   ],
   "source": [
    "price = int(input(\"enter price\"))\n",
    "if price > 1000:\n",
    "    print(\"i will not purchase\")\n",
    "else:\n",
    "    print(\"i will purchase\")"
   ]
  },
  {
   "cell_type": "code",
   "execution_count": 41,
   "id": "afce9a17-8c1a-43b5-9ff3-1ea250441257",
   "metadata": {},
   "outputs": [
    {
     "name": "stdin",
     "output_type": "stream",
     "text": [
      "enter price 10000\n"
     ]
    },
    {
     "name": "stdout",
     "output_type": "stream",
     "text": [
      "i will not purchase\n",
      "this is too much\n"
     ]
    }
   ],
   "source": [
    "price = int(input(\"enter price\"))\n",
    "if price > 1000:\n",
    "    print(\"i will not purchase\")\n",
    "if price>5000:\n",
    "         print(\"this is too much\")\n",
    "elif price < 2000:\n",
    "        print(\"its ok\")\n",
    "elif price < 1000:\n",
    "    print(\"i will purchase\")\n",
    "else :\n",
    "    print(\"not interested\")\n",
    "        "
   ]
  },
  {
   "cell_type": "code",
   "execution_count": 1,
   "id": "0676bfe1-bf3b-43d4-9ec4-cff721afe9d3",
   "metadata": {},
   "outputs": [],
   "source": [
    "l = [1,2,3,4,5,6,7,8]"
   ]
  },
  {
   "cell_type": "code",
   "execution_count": 3,
   "id": "ff2b83e4-ed4f-415f-b4d3-61f329e5e4c4",
   "metadata": {},
   "outputs": [
    {
     "data": {
      "text/plain": [
       "2"
      ]
     },
     "execution_count": 3,
     "metadata": {},
     "output_type": "execute_result"
    }
   ],
   "source": [
    "l[0]+1"
   ]
  },
  {
   "cell_type": "code",
   "execution_count": 4,
   "id": "eadeb2a1-9abb-44b6-a029-96f470c65a0e",
   "metadata": {},
   "outputs": [],
   "source": [
    "l1 = []"
   ]
  },
  {
   "cell_type": "code",
   "execution_count": 17,
   "id": "d491c184-045e-4229-9828-e45643a56e11",
   "metadata": {},
   "outputs": [],
   "source": [
    "l1.append(l[0] +1)"
   ]
  },
  {
   "cell_type": "code",
   "execution_count": 18,
   "id": "62b8ac9d-683d-4392-9a9d-3e8a0dc8806b",
   "metadata": {},
   "outputs": [
    {
     "data": {
      "text/plain": [
       "[2]"
      ]
     },
     "execution_count": 18,
     "metadata": {},
     "output_type": "execute_result"
    }
   ],
   "source": [
    "l1"
   ]
  },
  {
   "cell_type": "code",
   "execution_count": 2,
   "id": "5d1ca4e1-876c-4140-a333-129ca5b99192",
   "metadata": {},
   "outputs": [],
   "source": [
    "l = [1,2,3,4,5,6,7,8,]"
   ]
  },
  {
   "cell_type": "code",
   "execution_count": 3,
   "id": "837b26bb-ab62-4774-9087-778658bdbdaf",
   "metadata": {},
   "outputs": [
    {
     "data": {
      "text/plain": [
       "[1, 2, 3, 4, 5, 6, 7, 8]"
      ]
     },
     "execution_count": 3,
     "metadata": {},
     "output_type": "execute_result"
    }
   ],
   "source": [
    "l"
   ]
  },
  {
   "cell_type": "code",
   "execution_count": 11,
   "id": "fd50cd11-8f76-4df2-8c3e-d81d0169519f",
   "metadata": {},
   "outputs": [
    {
     "name": "stdout",
     "output_type": "stream",
     "text": [
      "2\n",
      "3\n",
      "4\n",
      "5\n",
      "6\n",
      "7\n",
      "8\n",
      "9\n"
     ]
    },
    {
     "data": {
      "text/plain": [
       "[2, 3, 4, 5, 6, 7, 8, 9]"
      ]
     },
     "execution_count": 11,
     "metadata": {},
     "output_type": "execute_result"
    }
   ],
   "source": [
    "l1 = []\n",
    "for i in l :\n",
    "    print(i+1)\n",
    "    l1.append(i+1)\n",
    "l1"
   ]
  },
  {
   "cell_type": "code",
   "execution_count": 12,
   "id": "3b4ded5b-4e39-4c3f-ba5e-7798ba6c9286",
   "metadata": {},
   "outputs": [
    {
     "data": {
      "text/plain": [
       "[2, 3, 4, 5, 6, 7, 8, 9]"
      ]
     },
     "execution_count": 12,
     "metadata": {},
     "output_type": "execute_result"
    }
   ],
   "source": [
    "l1"
   ]
  },
  {
   "cell_type": "code",
   "execution_count": 4,
   "id": "51a9d829-4cf1-4a9b-b766-ee9ff1940f82",
   "metadata": {},
   "outputs": [],
   "source": [
    "l = [\"gyana\",\"jenapada\",\"pwskills\",\"course\"]"
   ]
  },
  {
   "cell_type": "code",
   "execution_count": 5,
   "id": "6bc80123-671a-445d-87c2-704ac78927a3",
   "metadata": {},
   "outputs": [
    {
     "data": {
      "text/plain": [
       "['gyana', 'jenapada', 'pwskills', 'course']"
      ]
     },
     "execution_count": 5,
     "metadata": {},
     "output_type": "execute_result"
    }
   ],
   "source": [
    "l"
   ]
  },
  {
   "cell_type": "code",
   "execution_count": 9,
   "id": "a2b0fa22-7acc-4118-bfe6-26d3a22ffce1",
   "metadata": {},
   "outputs": [
    {
     "name": "stdout",
     "output_type": "stream",
     "text": [
      "gyana\n",
      "jenapada\n",
      "pwskills\n",
      "course\n"
     ]
    }
   ],
   "source": [
    "l1 =[]\n",
    "for i in l :\n",
    "    print (i)\n",
    "    l1.append(i.upper())\n",
    "    "
   ]
  },
  {
   "cell_type": "code",
   "execution_count": 10,
   "id": "72fdc379-1ab4-45ad-82e5-be15801b0a98",
   "metadata": {},
   "outputs": [
    {
     "data": {
      "text/plain": [
       "['GYANA', 'JENAPADA', 'PWSKILLS', 'COURSE']"
      ]
     },
     "execution_count": 10,
     "metadata": {},
     "output_type": "execute_result"
    }
   ],
   "source": [
    "l1"
   ]
  },
  {
   "cell_type": "code",
   "execution_count": 10,
   "id": "91863175-ab27-4f74-9798-0aa825bd764a",
   "metadata": {},
   "outputs": [],
   "source": [
    "l = [1,2,3,4,4,\"gyana\" , \"pinu\" , 678,89.90,\"abc\"]"
   ]
  },
  {
   "cell_type": "code",
   "execution_count": 11,
   "id": "cb975ef9-baaa-4d99-8bbe-519db4cf4f1e",
   "metadata": {},
   "outputs": [],
   "source": [
    "l1_num = []\n",
    "l2_str = []\n",
    "for i in l :\n",
    "    if type(i) == int or type(i) == float :\n",
    "        l1_num.append(i)\n",
    "    else:\n",
    "        l2_str.append(i)  "
   ]
  },
  {
   "cell_type": "code",
   "execution_count": 14,
   "id": "cbf3e8fe-7ed7-461e-a921-24e1c53df432",
   "metadata": {},
   "outputs": [
    {
     "data": {
      "text/plain": [
       "[1, 2, 3, 4, 4, 678, 89.9]"
      ]
     },
     "execution_count": 14,
     "metadata": {},
     "output_type": "execute_result"
    }
   ],
   "source": [
    "l1_num"
   ]
  },
  {
   "cell_type": "code",
   "execution_count": 15,
   "id": "9ebf2296-806b-47e1-bcf1-c3b204e85978",
   "metadata": {},
   "outputs": [
    {
     "data": {
      "text/plain": [
       "['gyana', 'pinu', 'abc']"
      ]
     },
     "execution_count": 15,
     "metadata": {},
     "output_type": "execute_result"
    }
   ],
   "source": [
    "l2_str"
   ]
  },
  {
   "cell_type": "code",
   "execution_count": null,
   "id": "22e73c85-8d00-445e-a343-56d73433f0d6",
   "metadata": {},
   "outputs": [],
   "source": []
  }
 ],
 "metadata": {
  "kernelspec": {
   "display_name": "Python 3 (ipykernel)",
   "language": "python",
   "name": "python3"
  },
  "language_info": {
   "codemirror_mode": {
    "name": "ipython",
    "version": 3
   },
   "file_extension": ".py",
   "mimetype": "text/x-python",
   "name": "python",
   "nbconvert_exporter": "python",
   "pygments_lexer": "ipython3",
   "version": "3.10.8"
  }
 },
 "nbformat": 4,
 "nbformat_minor": 5
}
